{
 "cells": [
  {
   "cell_type": "code",
   "execution_count": null,
   "id": "worth-germany",
   "metadata": {},
   "outputs": [],
   "source": [
    "import requests\n",
    "import xml.etree.ElementTree as ET\n",
    "  \n",
    "# url of news rss feed\n",
    "RSS_FEED_URL = \"http://www.hindustantimes.com/rss/topnews/rssfeed.xml\"    \n",
    "  \n",
    "def loadRSS():\n",
    "    '''\n",
    "    utility function to load RSS feed\n",
    "    '''\n",
    "    # create HTTP request response object\n",
    "    resp = requests.get(RSS_FEED_URL)\n",
    "  \n",
    "    # return response content\n",
    "    return resp.content\n",
    "  \n",
    "def parseXML(rss):\n",
    "    '''\n",
    "    utility function to parse XML format rss feed\n",
    "    '''\n",
    "    # create element tree root object\n",
    "    root = ET.fromstring(rss)\n",
    "  \n",
    "    # create empty list for news items\n",
    "    newsitems = []\n",
    "  \n",
    "    # iterate news items\n",
    "    for item in root.findall('./channel/item'):\n",
    "        news = {}\n",
    "  \n",
    "        # iterate child elements of item\n",
    "        for child in item:\n",
    "  \n",
    "            # special checking for namespace object content:media\n",
    "            if child.tag == '{http://search.yahoo.com/mrss/}content':\n",
    "                news['media'] = child.attrib['url']\n",
    "            else:\n",
    "                news[child.tag] = child.text.encode('utf8')\n",
    "        newsitems.append(news)\n",
    "  \n",
    "    # return news items list\n",
    "    return newsitems\n",
    "  \n",
    "def topStories():\n",
    "    '''\n",
    "    main function to generate and return news items\n",
    "    '''\n",
    "    # load rss feed\n",
    "    rss = loadRSS()\n",
    "  \n",
    "    # parse XML\n",
    "    newsitems = parseXML(rss)\n",
    "    return newsitems"
   ]
  }
 ],
 "metadata": {
  "kernelspec": {
   "display_name": "Python 3",
   "language": "python",
   "name": "python3"
  },
  "language_info": {
   "codemirror_mode": {
    "name": "ipython",
    "version": 3
   },
   "file_extension": ".py",
   "mimetype": "text/x-python",
   "name": "python",
   "nbconvert_exporter": "python",
   "pygments_lexer": "ipython3",
   "version": "3.7.8"
  }
 },
 "nbformat": 4,
 "nbformat_minor": 5
}
