{
 "cells": [
  {
   "cell_type": "code",
   "execution_count": 2,
   "id": "9b2f4bd3",
   "metadata": {},
   "outputs": [],
   "source": [
    "import PIL\n",
    "from PIL import Image\n",
    "from tkinter.filedialog import *\n",
    "\n",
    "file_path = askopenfilename()\n",
    "img=PIL.Image.open(file_path)\n",
    "myHeight,myWidth = img.size\n",
    "\n",
    "\n",
    "\n",
    "img = img.resize((myHeight, myWidth), PIL.Image.ANTIALIAS)\n",
    "save_path = asksaveasfilename()\n",
    "img.save(save_path+\"compressed.jpg\")\n"
   ]
  },
  {
   "cell_type": "code",
   "execution_count": null,
   "id": "75d02930",
   "metadata": {},
   "outputs": [],
   "source": []
  }
 ],
 "metadata": {
  "kernelspec": {
   "display_name": "Python 3",
   "language": "python",
   "name": "python3"
  },
  "language_info": {
   "codemirror_mode": {
    "name": "ipython",
    "version": 3
   },
   "file_extension": ".py",
   "mimetype": "text/x-python",
   "name": "python",
   "nbconvert_exporter": "python",
   "pygments_lexer": "ipython3",
   "version": "3.8.8"
  }
 },
 "nbformat": 4,
 "nbformat_minor": 5
}
