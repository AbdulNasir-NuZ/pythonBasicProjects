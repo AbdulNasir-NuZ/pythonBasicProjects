{
 "cells": [
  {
   "cell_type": "markdown",
   "id": "af34049f",
   "metadata": {},
   "source": [
    "## Phone number details through python \n",
    "### country, Sim belongs to, Timezone"
   ]
  },
  {
   "cell_type": "code",
   "execution_count": 2,
   "id": "5485167e",
   "metadata": {},
   "outputs": [
    {
     "name": "stdout",
     "output_type": "stream",
     "text": [
      "Collecting phonenumbers\n",
      "  Downloading phonenumbers-8.13.11-py2.py3-none-any.whl (2.6 MB)\n",
      "Installing collected packages: phonenumbers\n",
      "Successfully installed phonenumbers-8.13.11\n",
      "Note: you may need to restart the kernel to use updated packages.\n"
     ]
    }
   ],
   "source": [
    "pip install phonenumbers"
   ]
  },
  {
   "cell_type": "code",
   "execution_count": 5,
   "id": "7ebc50bc",
   "metadata": {},
   "outputs": [
    {
     "name": "stdout",
     "output_type": "stream",
     "text": [
      "Enter the Phone number to get its detail's with country code +__:+919743232004\n",
      "Country Code: 91 National Number: 9743232004\n",
      "('Asia/Calcutta',)\n",
      "Idea\n",
      "India\n"
     ]
    }
   ],
   "source": [
    "import phonenumbers\n",
    "from  phonenumbers import timezone, geocoder, carrier\n",
    "\n",
    "Phonenumber=input(\"Enter the Phone number to get its detail's with country code +__:\")\n",
    "\n",
    "phone = phonenumbers.parse(Phonenumber)\n",
    "\n",
    "time = timezone.time_zones_for_number(phone)\n",
    "\n",
    "carr = carrier.name_for_number(phone,\"en\")\n",
    "\n",
    "reg = geocoder.description_for_number(phone,\"en\")\n",
    "\n",
    "print(phone)\n",
    "print(time)\n",
    "print(carr)\n",
    "print(reg)"
   ]
  },
  {
   "cell_type": "code",
   "execution_count": 6,
   "id": "936b2b1f",
   "metadata": {},
   "outputs": [
    {
     "name": "stdout",
     "output_type": "stream",
     "text": [
      "Enter the Phone number to get its detail's with country code +__:+971 55658922445544\n",
      "Country Code: 971 National Number: 55658922445544\n",
      "('Etc/Unknown',)\n",
      "\n",
      "\n"
     ]
    }
   ],
   "source": [
    "import phonenumbers\n",
    "from  phonenumbers import timezone, geocoder, carrier\n",
    "\n",
    "Phonenumber=input(\"Enter the Phone number to get its detail's with country code +__:\")\n",
    "\n",
    "phone = phonenumbers.parse(Phonenumber)\n",
    "\n",
    "time = timezone.time_zones_for_number(phone)\n",
    "\n",
    "carr = carrier.name_for_number(phone,\"en\")\n",
    "\n",
    "reg = geocoder.description_for_number(phone,\"en\")\n",
    "\n",
    "print(phone)\n",
    "print(time)\n",
    "print(carr)\n",
    "print(reg)"
   ]
  },
  {
   "cell_type": "code",
   "execution_count": null,
   "id": "a02dbf4c",
   "metadata": {},
   "outputs": [],
   "source": []
  }
 ],
 "metadata": {
  "kernelspec": {
   "display_name": "Python 3",
   "language": "python",
   "name": "python3"
  },
  "language_info": {
   "codemirror_mode": {
    "name": "ipython",
    "version": 3
   },
   "file_extension": ".py",
   "mimetype": "text/x-python",
   "name": "python",
   "nbconvert_exporter": "python",
   "pygments_lexer": "ipython3",
   "version": "3.8.8"
  }
 },
 "nbformat": 4,
 "nbformat_minor": 5
}
